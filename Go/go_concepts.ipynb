{
 "cells": [
  {
   "cell_type": "markdown",
   "metadata": {},
   "source": [
    "## Particularidades"
   ]
  },
  {
   "cell_type": "markdown",
   "metadata": {},
   "source": [
    "um código Go é organizado em **packages** podendo estes ser um ou mais\n",
    "\n",
    "**Go é uma linguagem de tipagem estática**, isto é, suas variáveis carregam tipos e se um tipo de valor diferente ao atribuído à variavel é usado, um erro ocorre\n",
    "\n",
    "**package main contém o código que dará inicio ao código Go**\n",
    "\n",
    "uma particularidade de Go é que não é possivel importar somente uma parte de packages/libraries, somente elas inteiras\n",
    "\n",
    "apesar de ser uma linguagem que necessita de ; ao fim de suas sentenças, **é altamente NÃO recomendado estas serem colocadas de modo manual pelo programador**\n",
    "\n",
    "**Go implementa automaticamente pelo seu compilador os ;**\n",
    "\n",
    "o uso de aspas simples e duplas não são equivalentes"
   ]
  },
  {
   "cell_type": "markdown",
   "metadata": {},
   "source": [
    "## Go commands"
   ]
  },
  {
   "cell_type": "markdown",
   "metadata": {},
   "source": [
    "Go traz consigo uma série de funcionalidade via CLI sendo elas:"
   ]
  },
  {
   "cell_type": "markdown",
   "metadata": {},
   "source": [
    "### **go mod init**"
   ]
  },
  {
   "cell_type": "markdown",
   "metadata": {},
   "source": [
    "sintaxe: ```go mod init <nome do modulo>```\n",
    "\n",
    "cria um arquivo go.mod\n",
    "\n",
    "análogo ao requirements.txt\n",
    "\n",
    "**não é recomendado alterar sua estrutura manualmente**\n",
    "\n",
    "para atualizar o arquivo go.mod é recomendado fazer uso de comandos como **go get** ou **go mod tidy**"
   ]
  },
  {
   "cell_type": "markdown",
   "metadata": {},
   "source": [
    "### **go build**"
   ]
  },
  {
   "cell_type": "markdown",
   "metadata": {},
   "source": [
    "Go é uma linguagem compilada e a única coisa que ela precisa para funcionar de modo remoto é um **arquivo executável bin**\n",
    "\n",
    "`go build` realiza a construção deste executável e o seu nome, por padrão é o mesmo do modulo definido usando `go mod init <nome do modulo>`\n",
    "\n",
    "podemos **alterar seu nome e local** em que será gerado usando a flag **-o**"
   ]
  },
  {
   "cell_type": "markdown",
   "metadata": {},
   "source": [
    "### **go fmt**"
   ]
  },
  {
   "cell_type": "markdown",
   "metadata": {},
   "source": [
    "sana problemas e discussões a respeito de qual o melhor modo de clear code\n",
    "\n",
    "`go fmt <path>` faz com que **identações** sejam implementadas de modo a deixar o código formatado\n",
    "\n",
    "`go fmt <path>` **não corrige abertura e fechamento de chaves** "
   ]
  },
  {
   "cell_type": "markdown",
   "metadata": {},
   "source": [
    "### **go vet**"
   ]
  },
  {
   "cell_type": "markdown",
   "metadata": {},
   "source": [
    "realiza um scan do código e **aponta possíveis erros** que podem ser gerados na compilação\n",
    "\n",
    "`go vet <path>`"
   ]
  },
  {
   "cell_type": "markdown",
   "metadata": {},
   "source": [
    "### **go bug**"
   ]
  },
  {
   "cell_type": "markdown",
   "metadata": {},
   "source": [
    "### **go clean**"
   ]
  },
  {
   "cell_type": "markdown",
   "metadata": {},
   "source": [
    "### **go doc**"
   ]
  },
  {
   "cell_type": "markdown",
   "metadata": {},
   "source": [
    "### **go env**"
   ]
  },
  {
   "cell_type": "markdown",
   "metadata": {},
   "source": [
    "### **go fix**"
   ]
  },
  {
   "cell_type": "markdown",
   "metadata": {},
   "source": [
    "### **go generate**"
   ]
  },
  {
   "cell_type": "markdown",
   "metadata": {},
   "source": [
    "### **go get**"
   ]
  },
  {
   "cell_type": "markdown",
   "metadata": {},
   "source": [
    "### **go install**"
   ]
  },
  {
   "cell_type": "markdown",
   "metadata": {},
   "source": [
    "### **go list**"
   ]
  },
  {
   "cell_type": "markdown",
   "metadata": {},
   "source": [
    "### **go work**"
   ]
  },
  {
   "cell_type": "markdown",
   "metadata": {},
   "source": [
    "### **go run**"
   ]
  },
  {
   "cell_type": "markdown",
   "metadata": {},
   "source": [
    "faz a execução de um arquivo .go\n",
    "\n",
    "`go run <path>.go`"
   ]
  },
  {
   "cell_type": "markdown",
   "metadata": {},
   "source": [
    "### **go telemetry**"
   ]
  },
  {
   "cell_type": "markdown",
   "metadata": {},
   "source": [
    "### **go test**"
   ]
  },
  {
   "cell_type": "markdown",
   "metadata": {},
   "source": [
    "### **go tool**"
   ]
  },
  {
   "cell_type": "markdown",
   "metadata": {},
   "source": [
    "## Tipos de dados"
   ]
  },
  {
   "cell_type": "markdown",
   "metadata": {},
   "source": [
    "**Go define como 0 o valor padrão de variáveis numéricas e string vazia variáveis strings** que foram definidas mas não tem um valor atribuído"
   ]
  },
  {
   "cell_type": "markdown",
   "metadata": {},
   "source": [
    "### **Strings**"
   ]
  },
  {
   "cell_type": "markdown",
   "metadata": {},
   "source": [
    "se tratam somente de **sequencia de bytes**\n",
    "\n",
    "Go usa a decodificação UTF-8 por padrão"
   ]
  },
  {
   "cell_type": "markdown",
   "metadata": {},
   "source": [
    "### **Literal**"
   ]
  },
  {
   "cell_type": "markdown",
   "metadata": {},
   "source": [
    "se trata de um número, string, caracter **explicitamente especificado**\n",
    "\n",
    "**não são tipados** sua tipagem é feita de modo implicito pelos tipos padrões da linguagem Go\n",
    "\n",
    "existem 5 tipos de literals\n",
    "\n",
    "*   integer literal\n",
    "\n",
    "*   floating-point literal\n",
    "\n",
    "*   rune literal\n",
    "\n",
    "*   string literal\n",
    "\n",
    "*   complex literal"
   ]
  },
  {
   "cell_type": "markdown",
   "metadata": {},
   "source": [
    "#### *Integer Literal*"
   ]
  },
  {
   "cell_type": "markdown",
   "metadata": {},
   "source": [
    "se trata de uma sequencia de numeros\n",
    "\n",
    "por padrão é na base 10 mas pode ser em outras bases definidas por prefixos como:\n",
    "\n",
    "*   0b -> binários (base 2)\n",
    "\n",
    "*   0o ou 0 -> octal (base 8)\n",
    "\n",
    "*   0x -> hexadecimal (base 16)\n",
    "\n",
    "exemplos:\n",
    "\n",
    "5\n",
    "\n",
    "0x5\n",
    "\n",
    "05\n",
    "\n",
    "0b5\n",
    "\n",
    "0o5"
   ]
  },
  {
   "cell_type": "markdown",
   "metadata": {},
   "source": [
    "#### *Floating-point Literal*"
   ]
  },
  {
   "cell_type": "markdown",
   "metadata": {},
   "source": [
    "se trata de valores com ponto flutuante\n",
    "\n",
    "**podemos usar `e` para especificar um expoente**\n",
    "\n",
    "6.023e23 é equivalente a 6.023 * 10²³\n",
    "\n",
    "no caso de hexadecimais o expoente `e` se torna `p`\n",
    "\n",
    "0x12.78p5 é equivalente a 582.5 na base 10 "
   ]
  },
  {
   "cell_type": "markdown",
   "metadata": {},
   "source": [
    "#### *Rune Literal*"
   ]
  },
  {
   "cell_type": "markdown",
   "metadata": {},
   "source": [
    "representado um caracter envolvidos por **aspas simples**\n",
    "\n",
    "seu valor por **padrão** é uma **runa**\n",
    "\n",
    "assim como integer e floating point literals podem ser escritas em:\n",
    "*   8-bits octal (\\\\)\n",
    "\n",
    "*   8-bits hexadecimal (\\x)\n",
    "\n",
    "*   16-bits hexadecimal (\\u)\n",
    "\n",
    "*   32-bits unicode (\\U) \n",
    "\n",
    "*   Unicode ('a', por exemplo)  \n",
    "\n",
    "temos como caracteres \"especiais\":\n",
    "\n",
    "*   '\\n' -> quebra de linha\n",
    "\n",
    "*   '\\t' -> tab\n",
    "\n",
    "*   '\\\\\\\\' -> backslash\n",
    "\n",
    "*   '\\\\'' -> single quote"
   ]
  },
  {
   "cell_type": "markdown",
   "metadata": {},
   "source": [
    "#### *String Literal*"
   ]
  },
  {
   "cell_type": "markdown",
   "metadata": {},
   "source": [
    "existem duas formas de ser representado\n",
    "\n",
    "*   **aspas duplas** \"Isto é um **interpreted** string literal\". este tipo **interpreta Rune Literals**\n",
    "\n",
    "*   **backquotes** \\`Isto também é um **raw** string literal\\`. este tipo **não interpreta Rune Literals**"
   ]
  },
  {
   "cell_type": "markdown",
   "metadata": {},
   "source": [
    "#### *Complex Literal*"
   ]
  },
  {
   "cell_type": "markdown",
   "metadata": {},
   "source": [
    "se trata de numeros complexos"
   ]
  },
  {
   "cell_type": "markdown",
   "metadata": {},
   "source": [
    "### **Booleanos**"
   ]
  },
  {
   "cell_type": "markdown",
   "metadata": {},
   "source": [
    "`true` e `false`"
   ]
  },
  {
   "cell_type": "markdown",
   "metadata": {},
   "source": [
    "### **Numericos**"
   ]
  },
  {
   "attachments": {
    "image-2.png": {
     "image/png": "[encoded data removed]"
    },
    "image.png": {
     "image/png": "[encoded data removed]"
    }
   },
   "cell_type": "markdown",
   "metadata": {},
   "source": [
    "existem 12 tipos que variam entre int, float e uint junto de seus bits permitidos, que determinam o range de numeros compreendidos e permitidos\n",
    "\n",
    "se um cast é feito entre um int64 para int32, o valor numérico pode ser diferente do esperado se fora do range do segundo tipo\n",
    "\n",
    "![image.png](attachment:image.png)\n",
    "\n",
    "![image-2.png](attachment:image-2.png)\n",
    "\n",
    "além de `complex64` e `complex128`\n",
    "\n",
    "nomes usuais podem ser conferidos aos tipos numericos, como por exemplo:\n",
    "\n",
    "*   **byte** se refere a **uint8**\n",
    "\n",
    "*   **int** se refere a **int32** em computadores de 32 bits e **int64** em computadores de 64 bits\n",
    "\n",
    "*   **uint** se refere a **unit32** em computadores de 32 bits e **uint64** em computadores de 64 bits\n",
    "\n",
    "*   **rune** se refere ao **int32**, que engloba todos os Unicodes; **não é por isso que se deve fazer a seguinte definição (que apesar de funcionar é errada conceitualmente) `var x int32 = 'B'`**\n",
    "\n",
    "    *   **rune é usado para caracteres unitários** `var z rune = 'C'`\n",
    "\n",
    "    *   são denotadas por aspas simples\n",
    "\n",
    "*   **uintptr**\n",
    "\n",
    "*   floats são por **padrão float64**\n",
    "\n",
    "**se é necessário um grande grau de precisão numerica em valores decimais recomenda-se o uso de bibliotecas de terceiros descritas mais a frente**\n",
    "\n",
    "**por floats não serem exatos não é recomendado comparações entre floats usando == e !=** dado que uma minima imprecisão pode levar a um resultado booleano inesperado. dessa forma, recomenda-se definir um **epsilon** (valor máximo permitido de variancia) em que é aceitavel sua imprecisão e **checar se o float se enquadra em tal intervalo**\n",
    "\n",
    "**floats não podem realizar a operação de modulo %**\n",
    "\n",
    "se um float diferente de 0 é dividido por 0 seu resultado é **+Inf** ou **-Inf**\n",
    "\n",
    "se **0.0 é dividido por 0.0** é retornado **NaN**\n",
    "\n",
    "com tantos tipos de dados numericos sua escolha deve ponderar os seguintes pontos:\n",
    "\n",
    "1. situações onde se trabalha com **arquivos binários ou protocolos de rede** que possuem integers de sinais e tamanhos específicos, devemos usar tais condições\n",
    "\n",
    "2. na escrita de uma **library function** que deve funcionar com qualquer tipo de integer, use um **tipo genérico** para representar qualquer tipo de integer\n",
    "\n",
    "3. em todos os outros casos usar `int`"
   ]
  },
  {
   "cell_type": "markdown",
   "metadata": {},
   "source": [
    "## Operadores"
   ]
  },
  {
   "cell_type": "markdown",
   "metadata": {},
   "source": [
    "\\+\n",
    "\n",
    "\\+=\n",
    "\n",
    "\\-\n",
    "\n",
    "\\-=\n",
    "\n",
    "\\/\n",
    "\n",
    "\\/=\n",
    "\n",
    "\\*\n",
    "\n",
    "\\*=\n",
    "\n",
    "\\%\n",
    "\n",
    "\\%=\n",
    "\n",
    "\\==\n",
    "\n",
    "!=\n",
    "\n",
    "\\>\n",
    "\n",
    "\\>=\n",
    "\n",
    "<\n",
    "\n",
    "<=\n",
    "\n",
    "& bitwise and\n",
    "\n",
    "&=\n",
    "\n",
    "^ bitwise xor\n",
    "\n",
    "^=\n",
    "\n",
    "&^ bitwise and not\n",
    "\n",
    "&^=\n",
    "\n",
    "| bitwise or\n",
    "\n",
    "|=\n",
    "\n",
    "\\>> bitwise shift right\n",
    "\n",
    "\\>>=\n",
    "\n",
    "<< bitwise shift left\n",
    "\n",
    "<<="
   ]
  },
  {
   "cell_type": "markdown",
   "metadata": {},
   "source": [
    "## Variaveis"
   ]
  },
  {
   "attachments": {
    "image.png": {
     "image/png": "[encoded data removed]"
    }
   },
   "cell_type": "markdown",
   "metadata": {},
   "source": [
    "devido à sua forte e estática tipagem, para realizar operações entre variáveis de tipos diferentes é necessário realizar a conversão de valores\n",
    "\n",
    "![image.png](attachment:image.png)\n",
    "\n",
    "ao converter um **float para int** o seu **ponto flutuante é truncado**\n",
    "\n",
    "**COMO TODOS OS VALORES SÃO TIPADOS ESTATICA E FORTEMENTE NÃO PODEMOS CONSIDERAR NENHUM VALOR COMO BOOLEANO ALÉM DE `true` `false`**\n",
    "\n",
    "**NENHUM TIPO PODE SER CONVERTIDO PARA BOOLEANO EXPLICITA OU IMPLICITAMENTE**"
   ]
  },
  {
   "cell_type": "markdown",
   "metadata": {},
   "source": [
    "## Condicionais"
   ]
  },
  {
   "cell_type": "markdown",
   "metadata": {},
   "source": [
    "**podemos ter a definição de variaveis locais na declaração do condicional** desse modo torna mais facil o entendimento e deixa nichado o uso das variaveis\n",
    "\n",
    "```terraform\n",
    "if x := 10; x > 8 {\n",
    "    fmt.Println(x)\n",
    "} else if {\n",
    "    fmt.Println(0)\n",
    "} else {\n",
    "    fmt.Println(\"Not a valid number\")\n",
    "}\n",
    "```"
   ]
  },
  {
   "cell_type": "markdown",
   "metadata": {},
   "source": [
    "## Loops"
   ]
  },
  {
   "cell_type": "markdown",
   "metadata": {},
   "source": [
    "em Go não há explicitamente um `while`. tudo é expresso em termos de `for`\n",
    "\n",
    "sua sintaxe fornece grande flexibilidade permitindo desde declarar variaveis locais, checar o condicional e realizar algo na proxima iteração a até mesmo não declarar nada e ser um loop infinito\n",
    "\n",
    "```terraform\n",
    "var y int = 10\n",
    "var z float64 = 2.10\n",
    "\n",
    "for x := 0; x < y; x++ {\n",
    "    fmt.Println(x)\n",
    "}\n",
    "\n",
    "for a := 100; a > y, a-- {\n",
    "    ...\n",
    "}\n",
    "\n",
    "for i := int(z); i < y {\n",
    "    // desta forma não se altera e usamos uma variavel dummy\n",
    "    i -= y\n",
    "}\n",
    "\n",
    "for {\n",
    "    ...\n",
    "}\n",
    "```"
   ]
  },
  {
   "cell_type": "markdown",
   "metadata": {},
   "source": [
    "## Funções"
   ]
  },
  {
   "cell_type": "markdown",
   "metadata": {},
   "source": [
    "## Switch"
   ]
  },
  {
   "cell_type": "markdown",
   "metadata": {},
   "source": [
    "análogo ao match case do Python\n",
    "\n",
    "permite o controle de forma mais simples em situações em que desejamos que uma ação seja tomada com base num valor especifico de uma variavel\n",
    "\n",
    "```terraform\n",
    "func getCreator(os string) string {\n",
    "    var creator string\n",
    "    switch os {\n",
    "    case \"linux\":\n",
    "        creator = \"Linus Torvalds\"\n",
    "    case \"windows\":\n",
    "        creator = \"Bill Gates\"\n",
    "    case \"mac\":\n",
    "        creator = \"A Steve\"\n",
    "    default:\n",
    "        creator = \"Unknown\"\n",
    "    }\n",
    "    return creator\n",
    "}\n",
    "```\n",
    "\n",
    "um poderoso keyword é o **`fallthrough`**\n",
    "\n",
    "o `fallthrough` permite que se dê match com um case específico ele siga com o próximo, não retornando ou fazendo nada nesse caso particular\n",
    "\n",
    "**seria a análogo ao continue em python num loop mas num match case statement**\n",
    "\n",
    "```terraform\n",
    "func getCreator(os string) string {\n",
    "    var creator string\n",
    "    switch os {\n",
    "    case \"linux\":\n",
    "        creator = \"Linus Torvalds\"\n",
    "    case \"windows\":\n",
    "        creator = \"Bill Gates\"\n",
    "\n",
    "    // all three of these cases will set creator to \"A Steve\"\n",
    "    case \"macOS\":\n",
    "        fallthrough\n",
    "    case \"Mac OS X\":\n",
    "        fallthrough\n",
    "    case \"mac\":\n",
    "        creator = \"A Steve\"\n",
    "\n",
    "    default:\n",
    "        creator = \"Unknown\"\n",
    "    }\n",
    "    return creator\n",
    "}\n",
    "```"
   ]
  }
 ],
 "metadata": {
  "kernelspec": {
   "display_name": "3.12.9",
   "language": "python",
   "name": "python3"
  },
  "language_info": {
   "name": "python",
   "version": "3.12.9"
  }
 },
 "nbformat": 4,
 "nbformat_minor": 2
}
