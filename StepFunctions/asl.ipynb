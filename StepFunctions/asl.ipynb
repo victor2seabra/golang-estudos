{
 "cells": [
  {
   "cell_type": "markdown",
   "metadata": {},
   "source": [
    "# JSONata"
   ]
  },
  {
   "cell_type": "markdown",
   "metadata": {},
   "source": [
    "JSONata é uma linguagem de consulta e transformação leve, mas poderosa, projetada para trabalhar com dados JSON. Inspirada no XPath, ela permite que você extraia e manipule informações de estruturas JSON complexas de forma eficiente e concisa."
   ]
  },
  {
   "cell_type": "markdown",
   "metadata": {},
   "source": [
    "## Principais Características"
   ]
  },
  {
   "cell_type": "markdown",
   "metadata": {},
   "source": [
    "* **Combinação de XPath e Notação JSON**: JSONata combina a flexibilidade do XPath com a simplicidade da notação JSON, tornando-a fácil de aprender e usar.\n",
    "\n",
    "* **Consultas e Transformações Complexas**: Permite realizar consultas complexas, filtrar dados, transformar estruturas JSON e realizar cálculos com facilidade.\n",
    "\n",
    "* **Expressões Concisas**: JSONata utiliza expressões concisas e intuitivas, reduzindo a necessidade de escrever código extenso.\n",
    "\n",
    "* **Manipulação de Dados Eficiente**: Projetada para lidar com grandes volumes de dados JSON de forma eficiente, tornando-a ideal para aplicações que exigem alto desempenho."
   ]
  },
  {
   "cell_type": "markdown",
   "metadata": {},
   "source": [
    "## Estruturas de Dados"
   ]
  },
  {
   "cell_type": "markdown",
   "metadata": {},
   "source": [
    "JSONata lida com dois tipos principais de estruturas de dados JSON:"
   ]
  },
  {
   "cell_type": "markdown",
   "metadata": {},
   "source": [
    "### 1. Objects (Objetos)"
   ]
  },
  {
   "cell_type": "markdown",
   "metadata": {},
   "source": [
    "* Análogos a **dicionários** em Python.\n",
    "\n",
    "* Acesso aos valores por meio de dot notation, em vez de colchetes.\n",
    "\n",
    "* **Importante**: **Erros** em consultas a objetos não resultam em erros, mas sim em **valores nulos**.\n",
    "\n",
    "* **Acesso a propriedades com caracteres especiais:**\n",
    "\n",
    "    * Propriedades com espaços ou caracteres reservados como `?` e `$` devem ser acessadas entre crases (`` ` ``).\n",
    "\n",
    "    * **Exemplo:**\n",
    "        ```json\n",
    "        {\n",
    "            \"nome do produto\": \"Laptop\",\n",
    "            \"preço?\": 1200,\n",
    "            \"informação$extra\": \"Garantia de 2 anos\"\n",
    "        }\n",
    "        ```\n",
    "        \n",
    "        * Para acessar \"preço?\": `` `preço?` ``\n",
    "\n",
    "        * Para acessar \"informação$extra\": `` `informação$extra` ``"
   ]
  },
  {
   "cell_type": "markdown",
   "metadata": {},
   "source": [
    "### 2. Arrays (Matrizes)"
   ]
  },
  {
   "cell_type": "markdown",
   "metadata": {},
   "source": [
    "* Análogos a listas em python.\n",
    "\n",
    "* Acesso aos elementos por index.\n",
    "\n",
    "* **Tratamento de Índices**:\n",
    "\n",
    "    * Índices do tipo float são convertidos para o **menor inteiro mais próximo**.\n",
    "\n",
    "    * Valores **não numéricos** são tratados como **predicados (filtros)**.\n",
    "\n",
    "* **Seleção de Ranges**:\n",
    "\n",
    "    * **`Array[[início..fim]]`** para selecionar um **intervalo de elementos** (início e fim inclusivos).\n",
    "    \n",
    "    * **Exemplos:**\n",
    "        ```json\n",
    "        [\n",
    "          \"maçã\",\n",
    "          \"banana\",\n",
    "          \"laranja\",\n",
    "          \"uva\",\n",
    "          \"melancia\",\n",
    "          \"abacaxi\",\n",
    "          \"morango\"\n",
    "        ]\n",
    "        ```\n",
    "        * `$[[2..4]]`: `[\"laranja\", \"uva\", \"melancia\"]`\n",
    "        * `$[[0..2]]`: `[\"maçã\", \"banana\", \"laranja\"]`\n",
    "        * `$[[4..6]]`: `[\"melancia\", \"abacaxi\", \"morango\"]`\n",
    "        * `$[[3..]]`: `[\"uva\", \"melancia\", \"abacaxi\", \"morango\"]`\n",
    "        * `$[[..3]]`: `[\"maçã\", \"banana\", \"laranja\", \"uva\"]`\n",
    "\n",
    "* **Acesso a Arrays Root**:\n",
    "    \n",
    "    * Arrays que não estão dentro de objetos podem ser acessadas usando o símbolo `$`, que representa a raiz do JSON.\n",
    "\n",
    "    * **Exemplo**:\n",
    "        ```json\n",
    "        [\n",
    "          {\n",
    "            \"nome\": \"João\",\n",
    "            \"idade\": 30,\n",
    "            \"endereço\": {\n",
    "              \"cidade\": \"São Paulo\",\n",
    "              \"país\": \"Brasil\"\n",
    "            },\n",
    "            \"hobbies\": [\"leitura\", \"música\"]\n",
    "          },\n",
    "          {\n",
    "            \"nome\": \"Maria\",\n",
    "            \"idade\": 25,\n",
    "            \"endereço\": {\n",
    "              \"cidade\": \"Nova York\",\n",
    "              \"país\": \"EUA\"\n",
    "            },\n",
    "            \"hobbies\": [\"corrida\", \"viagem\"]\n",
    "          },\n",
    "          {\n",
    "            \"nome\": \"Pedro\",\n",
    "            \"idade\": 35,\n",
    "            \"endereço\": {\n",
    "              \"cidade\": \"Londres\",\n",
    "              \"país\": \"Reino Unido\"\n",
    "            },\n",
    "            \"hobbies\": [\"fotografia\", \"cozinha\"]\n",
    "          }\n",
    "        ]\n",
    "        ```\n",
    "        * `$[1].nome`: `\"Maria\"`\n",
    "        * `$.idade`: `[30, 25, 35]`\n",
    "        * `$[0].endereço.cidade`: `\"São Paulo\"`\n",
    "        * `$[2].hobbies[0]`: `\"fotografia\"`\n",
    "        * `$.endereço.país`: `[\"Brasil\", \"EUA\", \"Reino Unido\"]`\n",
    "        * `$[idade > 30].nome`: `[\"Pedro\"]`\n",
    "        * `$.hobbies[]`: `[\"leitura\", \"música\", \"corrida\", \"viagem\", \"fotografia\", \"cozinha\"]`"
   ]
  },
  {
   "cell_type": "markdown",
   "metadata": {},
   "source": [
    "# JSONPath"
   ]
  },
  {
   "cell_type": "markdown",
   "metadata": {},
   "source": [
    "# Amazon States Language (ASL)"
   ]
  },
  {
   "cell_type": "markdown",
   "metadata": {},
   "source": [
    "## Overview"
   ]
  },
  {
   "cell_type": "markdown",
   "metadata": {},
   "source": [
    "**Uma State Machine consiste de um workflow que define uma serie de etapas em um processo**. Elas trazem consigo as seguintes features:\n",
    "\n",
    "* Permite a criação visual de workflows complexos;\n",
    "\n",
    "* Facilita o gerenciamento de workflows;\n",
    "\n",
    "* Facilita a construção de aplicações, processos de automação e orquestração de microsserviços;\n",
    "\n",
    "* São definidas em Amazon States Languages (ASL)\n",
    "\n",
    "**A representação de uma State Machine é feita por meio de objetos JSON.** Logo, toda State Machine se trata de uma composição de um ou mais States.\n",
    "\n",
    "Uma **operação** de uma State Machine é feita especificada fazendo uso de **States**, os quais são os JSON objects.\n",
    "\n",
    "**Os States são definidos na seção `\"States\"` no início (top-level) do objeto.**\n",
    "\n",
    "Um exemplo básico pode ser dado com:\n",
    "\n",
    "```json\n",
    "{\n",
    "  \"Comment\": \"A simple minimal example of the States language\",\n",
    "  \"StartAt\": \"Hello World\",\n",
    "  \"States\": {\n",
    "    \"Hello World\": {\n",
    "      \"Type\": \"Task\",\n",
    "      \"Resource\": \"arn:aws:lambda:us-east-1:123456789012:function:HelloWorld\",\n",
    "      \"End\": true\n",
    "    }\n",
    "  }\n",
    "}\n",
    "```\n",
    "\n",
    "O qual descreve a execução de uma função Lambda denominada de HelloWorld.\n",
    "\n",
    "Ele contém somente um State, logo, somente uma operação é realizada.\n",
    "\n",
    "Podemos observar que um comentário no top-level descrevendo o uso dessa State Machine\n",
    "\n",
    "**`\"StartAt\"` descreve onde se inícia o fluxo de execução dessa State Machine.**\n",
    "\n",
    "Sua execução segue o seguinte procedimento:\n",
    "\n",
    "1.  State Machine é executada;\n",
    "\n",
    "2.  O interpreter faz a análise e identifica onde se inicia o processo pelo `\"StartAt\"`;\n",
    "\n",
    "3.  Executa o `\"StartAt\"`;\n",
    "\n",
    "4.  Finaliza a execução do `\"StartAt\"`;\n",
    "\n",
    "5.  Faz a checagem se há, nesse estado, uma marcação de End State denotada por **`\"End\"`**;\n",
    "\n",
    "6.  Caso haja a definição de um `End`, finaliza-se a execução. Caso contrário, busca pelo próximo State a ser executado e atribuído à Transition **`\"Next\"`** (ou um **`\"Default\"`**, no caso de um `Choice State`);\n",
    "\n",
    "7.  Em situações onde há definição de `\"Next\"` ou `\"Default\"`, se dá sequencia à execução;\n",
    "\n",
    "8.  As etapas 6 e 7 são executadas até que se chegue num State denominado de `Terminal State`, o qual retorna um status de execução (Succeed, Fail ou End State), ou até que seja detectado um erro."
   ]
  },
  {
   "cell_type": "markdown",
   "metadata": {},
   "source": [
    "## Top-level"
   ]
  },
  {
   "cell_type": "markdown",
   "metadata": {},
   "source": [
    "Componentes:\n",
    "\n",
    "*   `\"States\"` representa os States. é um **JSON object**.\n",
    "\n",
    "*   `\"StartAt\"` representa onde se inicia o fluxo. **é uma String**.\n",
    "\n",
    "*   `\"QueryLanguage\"` [OPCIONAL] define a linguagem usada ao longo da State Machine, uma vez que **pode ser JSONata ou JSONPath**, facilitando debugs. **Por padrão é JSONPath**.\n",
    "\n",
    "*   `\"Comment\"` [OPCIONAL]\n",
    "\n",
    "*   `\"Version\"` [OPCIONAL] define a **versão da linguagem** usada na escrita da State Machine. Pode ser sobrescrita para um State específico usando esse mesmo key-pair.\n",
    "\n",
    "*   `\"TimeoutSeconds\"` [OPCIONAL] define o **tempo máximo de execução da State Machine em segundos**. Se excedido o tempo, um erro **`States.Timeout`** é reportado."
   ]
  },
  {
   "cell_type": "markdown",
   "metadata": {},
   "source": [
    "## States"
   ]
  },
  {
   "cell_type": "markdown",
   "metadata": {},
   "source": [
    "Descrevem unidades de trabalho (e.g. Task) ou um específico fluxo de controle (e.g. Choice State)\n",
    "\n",
    "**São representados dentro do top-level `\"States\"` object**.\n",
    "\n",
    "**Seu nome deve ser único dentro do escopo da State Machine**.\n",
    "\n",
    "O limite de caracteres que define seu nome é de **80 Unicode**."
   ]
  },
  {
   "cell_type": "markdown",
   "metadata": {},
   "source": [
    "### Composição"
   ]
  },
  {
   "cell_type": "markdown",
   "metadata": {},
   "source": [
    "Sua composição pode possuir campos adicionais dependendo do tipo\n",
    "\n",
    "Estrutura generalista de um State:\n",
    "\n",
    "*   `\"Type\"` define o tipo do State;\n",
    "\n",
    "*   `\"Comment\"` [OPCIONAL];\n",
    "\n",
    "*   `\"QueryLanguage\"` [OPCIONAL] permite sobrescrever a linguagem definida no top-level. Por padrão é o do top-level;\n",
    "\n",
    "*   `\"End\"` [OPCIONAL SE NÃO POSSUIR NEXT] valor booleano que indica o fim da State Machine se definido como `true`."
   ]
  },
  {
   "cell_type": "markdown",
   "metadata": {},
   "source": [
    "## Tipos de State"
   ]
  },
  {
   "cell_type": "markdown",
   "metadata": {},
   "source": [
    "### Task State"
   ]
  },
  {
   "cell_type": "markdown",
   "metadata": {},
   "source": [
    "são States de executáveis, como uma Lambda ou StepFunction\n",
    "\n",
    "tem em sua composição:\n",
    "\n",
    "*   **\"Type\"** deixa explícito que se trata de uma Task State;\n",
    "\n",
    "*   **\"Resource\"** traz o ARN do executável a ser usado\n",
    "\n",
    "*   **\"End\"** [OPCIONAL] finaliza a State Machine\n",
    "\n",
    "*   **\"Next\"** [OPCIONAL] indica o próximo State a ser executado\n",
    "\n",
    "*   **\"Parameters\"** [OPCIONAL] permite controlar e manipular o input passado a esta Task State. Por se tratar de um JSON object ele aceita field internos definidos pelo usuário.\n",
    "\n",
    "*   **\"ResultSelector\"** [OPCIONAL] permite selecionar somente a porção de interesse do output da Task State. É **executado antes** de **\"ResultPath\"**.\n",
    "\n",
    "*   **\"ResultPath\"** [OPCIONAL] define onde será armazenado o output da operação. **Se não especificado ele faz a substituição compĺeta do Input usado pelo novo Output.**\n",
    "\n",
    "*   **\"Retry\"** [OPCIONAL] uma Array contendo Objects que permite definir como será feita a execução em casos de erros específicos. Tem em sua composição os seguintes fields:\n",
    "\n",
    "    *   **\"ErrorEquals**\" uma Array que permite definir como cada tipo de erro será lidado\n",
    "    \n",
    "    *   **\"BackoffRate\"** permite definir se o tempo entre os retries será aumentado entre um retry e outro\n",
    "\n",
    "    *   **\"MaxAttempts\"**\n",
    "\n",
    "    *   **\"IntervalSeconds\"**\n",
    "\n",
    "    *   **\"Next\"**\n",
    "\n",
    "*   **\"Catch\"** [OPCIONAL] permite definir como erros serão lidados durante a execução da Task State. se trata de uma Array contendo Objects que por sua vez podem conter os seguintes fields:\n",
    "\n",
    "    *   **\"ErrorEquals\"\"**\n",
    "\n",
    "    *   **\"Next\"**\n",
    "\n",
    "    *   **\"ResultPath\"**"
   ]
  },
  {
   "cell_type": "markdown",
   "metadata": {},
   "source": [
    "### Choice State"
   ]
  },
  {
   "cell_type": "markdown",
   "metadata": {},
   "source": [
    "usado para definição de condicionais"
   ]
  },
  {
   "cell_type": "markdown",
   "metadata": {},
   "source": [
    "### Terminal State"
   ]
  },
  {
   "cell_type": "markdown",
   "metadata": {},
   "source": [
    "usado para reportar o status de uma run da State Machine e findá-la\n",
    "\n",
    "pode ser do tipo:\n",
    "\n",
    "*   Succeed;\n",
    "\n",
    "*   Fail;\n",
    "\n",
    "*   End."
   ]
  },
  {
   "cell_type": "markdown",
   "metadata": {},
   "source": [
    "## Transitions"
   ]
  },
  {
   "cell_type": "markdown",
   "metadata": {},
   "source": [
    "**Tem como função fazer a conexão e definir a ordem de execução dos States**.\n",
    "\n",
    "**Especificado pelo field `\"Next\"` que possui o nome do próximo State a ser executado escrito idênticamente.**\n",
    "\n",
    "**Todos os States que não são terminais devem conter um campo `\"Next\"`**."
   ]
  },
  {
   "cell_type": "markdown",
   "metadata": {},
   "source": [
    "## Timestamps"
   ]
  },
  {
   "cell_type": "markdown",
   "metadata": {},
   "source": [
    "**Choice e Wait States lidam com valores de JSON fields que representam timestamps.**\n",
    "\n",
    "O padrão de timestamp deve seguir a ISO 8601, possuindo o seguinte padrão: **\"2016-03-14T01:59:00Z\"**"
   ]
  },
  {
   "cell_type": "markdown",
   "metadata": {},
   "source": [
    "## Data"
   ]
  },
  {
   "cell_type": "markdown",
   "metadata": {},
   "source": [
    "O interpreter tem como um de suas funções a transmissão de dados de um State para outro com o intuito de performar cálculos (`Task`) ou controlar (Choice State), de modo dinâmico, o fluxo da State Machine.\n",
    "\n",
    "**Todos os dados DEVEM ser transmitidos no formato JSON**.\n",
    "\n",
    "**A referência para dados expressos em JSON é \"JSON text\"**.\n",
    "\n",
    "Ao iniciar a execução da State Machine um JSON text é passado como input.\n",
    "\n",
    "**Se um JSON text input não for passado, um JSON object (`{}`) vazio é usado por padrão**.\n",
    "\n",
    "Conforme ocorre a execução de cada State, cada State recebe um JSON text como input gerando um JSON text como output.\n",
    "\n",
    "**Quando dois States estão interligados via Transition, o input do primeiro é o output da segunda**.\n",
    "\n",
    "**O output de um Terminal State é tratado com o output da State Machine**."
   ]
  },
  {
   "cell_type": "markdown",
   "metadata": {},
   "source": [
    "## Context Object"
   ]
  },
  {
   "cell_type": "markdown",
   "metadata": {},
   "source": [
    "**Se trata de metadados da State Machine que podem ser usados**"
   ]
  },
  {
   "cell_type": "markdown",
   "metadata": {},
   "source": [
    "## Linguagens"
   ]
  },
  {
   "cell_type": "markdown",
   "metadata": {},
   "source": [
    "**O interpreter deve conseguir usar JSONPath ou JSONata. Ele pode suportar outras linguagens**.\n",
    "\n",
    "**Se um Map ou Parallel State tem uma linguagem específica em uso, esta não é automaticamente propagada para os States internos a ela**. Tais States adotam como padrão a linguagem da State Machine."
   ]
  },
  {
   "cell_type": "markdown",
   "metadata": {},
   "source": [
    "## State Machine Variables"
   ]
  },
  {
   "cell_type": "markdown",
   "metadata": {},
   "source": [
    "Se trata de um valor JSON nomeado.\n",
    "\n",
    "**Um State pode ter em sua estrutura a declaração de uma variável a qual pode ser usada por um State subsequente**."
   ]
  }
 ],
 "metadata": {
  "language_info": {
   "name": "python"
  }
 },
 "nbformat": 4,
 "nbformat_minor": 2
}
