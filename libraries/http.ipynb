{
 "cells": [
  {
   "cell_type": "markdown",
   "metadata": {},
   "source": [
    "# net/http"
   ]
  },
  {
   "cell_type": "markdown",
   "metadata": {},
   "source": [
    "se trata de uma biblioteca de interação com servidores via requests e responses\n",
    "\n",
    "análogo ao httpx do python\n",
    "\n",
    "temos os seguinte componentes e funcionalidades dentro dela:"
   ]
  },
  {
   "cell_type": "markdown",
   "metadata": {},
   "source": [
    "# Constantes"
   ]
  },
  {
   "cell_type": "markdown",
   "metadata": {},
   "source": [
    "basicamente compreende dois tipos:"
   ]
  },
  {
   "cell_type": "markdown",
   "metadata": {},
   "source": [
    "## 1.  Métodos HTTP"
   ]
  },
  {
   "cell_type": "markdown",
   "metadata": {},
   "source": [
    "MethodGet     = \"GET\"\n",
    "MethodHead    = \"HEAD\"\n",
    "MethodPost    = \"POST\"\n",
    "MethodPut     = \"PUT\"\n",
    "MethodPatch   = \"PATCH\" // RFC 5789\n",
    "MethodDelete  = \"DELETE\"\n",
    "MethodConnect = \"CONNECT\"\n",
    "MethodOptions = \"OPTIONS\"\n",
    "MethodTrace   = \"TRACE\""
   ]
  },
  {
   "cell_type": "markdown",
   "metadata": {},
   "source": [
    "## 2.   Status Code"
   ]
  },
  {
   "cell_type": "markdown",
   "metadata": {},
   "source": [
    "### 1xx\n",
    "\n",
    "StatusContinue           = 100 // RFC 9110, 15.2.1\n",
    "\n",
    "StatusSwitchingProtocols = 101 // RFC 9110, 15.2.2\n",
    "\n",
    "StatusProcessing         = 102 // RFC 2518, 10.1\n",
    "\n",
    "StatusEarlyHints         = 103 // RFC 8297\n",
    "\n",
    "### 2xx\n",
    "StatusOK                   = 200 // RFC 9110, 15.3.1\n",
    "\n",
    "StatusCreated              = 201 // RFC 9110, 15.3.2\n",
    "\n",
    "StatusAccepted             = 202 // RFC 9110, 15.3.3\n",
    "\n",
    "StatusNonAuthoritativeInfo = 203 // RFC 9110, 15.3.4\n",
    "\n",
    "StatusNoContent            = 204 // RFC 9110, 15.3.5\n",
    "\n",
    "StatusResetContent         = 205 // RFC 9110, 15.3.6\n",
    "\n",
    "StatusPartialContent       = 206 // RFC 9110, 15.3.7\n",
    "\n",
    "StatusMultiStatus          = 207 // RFC 4918, 11.1\n",
    "\n",
    "StatusAlreadyReported      = 208 // RFC 5842, 7.1\n",
    "\n",
    "StatusIMUsed               = 226 // RFC 3229, 10.4.1\n",
    "\n",
    "### 3xx\n",
    "StatusMultipleChoices  = 300 // RFC 9110, 15.4.1\n",
    "\n",
    "StatusMovedPermanently = 301 // RFC 9110, 15.4.2\n",
    "\n",
    "StatusFound            = 302 // RFC 9110, 15.4.3\n",
    "\n",
    "StatusSeeOther         = 303 // RFC 9110, 15.4.4\n",
    "\n",
    "StatusNotModified      = 304 // RFC 9110, 15.4.5\n",
    "\n",
    "StatusUseProxy         = 305 // RFC 9110, 15.4.6\n",
    "\n",
    "StatusTemporaryRedirect = 307 // RFC 9110, 15.4.8\n",
    "\n",
    "StatusPermanentRedirect = 308 // RFC 9110, 15.4.9\n",
    "\n",
    "### 4xx\n",
    "StatusBadRequest                   = 400 // RFC 9110, 15.5.1\n",
    "\n",
    "StatusUnauthorized                 = 401 // RFC 9110, 15.5.2\n",
    "\n",
    "StatusPaymentRequired              = 402 // RFC 9110, 15.5.3\n",
    "\n",
    "StatusForbidden                    = 403 // RFC 9110, 15.5.4\n",
    "\n",
    "StatusNotFound                     = 404 // RFC 9110, 15.5.5\n",
    "\n",
    "StatusMethodNotAllowed             = 405 // RFC 9110, 15.5.6\n",
    "\n",
    "StatusNotAcceptable                = 406 // RFC 9110, 15.5.7\n",
    "\n",
    "StatusProxyAuthRequired            = 407 // RFC 9110, 15.5.8\n",
    "\n",
    "StatusRequestTimeout               = 408 // RFC 9110, 15.5.9\n",
    "\n",
    "StatusConflict                     = 409 // RFC 9110, 15.5.10\n",
    "\n",
    "StatusGone                         = 410 // RFC 9110, 15.5.11\n",
    "\n",
    "StatusLengthRequired               = 411 // RFC 9110, 15.5.12\n",
    "\n",
    "StatusPreconditionFailed           = 412 // RFC 9110, 15.5.13\n",
    "\n",
    "StatusRequestEntityTooLarge        = 413 // RFC 9110, 15.5.14\n",
    "\n",
    "StatusRequestURITooLong            = 414 // RFC 9110, 15.5.15\n",
    "\n",
    "StatusUnsupportedMediaType         = 415 // RFC 9110, 15.5.16\n",
    "\n",
    "StatusRequestedRangeNotSatisfiable = 416 // RFC 9110, 15.5.17\n",
    "\n",
    "StatusExpectationFailed            = 417 // RFC 9110, 15.5.18\n",
    "\n",
    "StatusTeapot                       = 418 // RFC 9110, 15.5.19 (Unused)\n",
    "\n",
    "StatusMisdirectedRequest           = 421 // RFC 9110, 15.5.20\n",
    "\n",
    "StatusUnprocessableEntity          = 422 // RFC 9110, 15.5.21\n",
    "\n",
    "StatusLocked                       = 423 // RFC 4918, 11.3\n",
    "\n",
    "StatusFailedDependency             = 424 // RFC 4918, 11.4\n",
    "\n",
    "StatusTooEarly                     = 425 // RFC 8470, 5.2.\n",
    "\n",
    "StatusUpgradeRequired              = 426 // RFC 9110, 15.5.22\n",
    "\n",
    "StatusPreconditionRequired         = 428 // RFC 6585, 3\n",
    "\n",
    "StatusTooManyRequests              = 429 // RFC 6585, 4\n",
    "\n",
    "StatusRequestHeaderFieldsTooLarge  = 431 // RFC 6585, 5\n",
    "\n",
    "StatusUnavailableForLegalReasons   = 451 // RFC 7725, 3\n",
    "\n",
    "### 5xx\n",
    "StatusInternalServerError           = 500 // RFC 9110, 15.6.1\n",
    "\n",
    "StatusNotImplemented                = 501 // RFC 9110, 15.6.2\n",
    "\n",
    "StatusBadGateway                    = 502 // RFC 9110, 15.6.3\n",
    "\n",
    "StatusServiceUnavailable            = 503 // RFC 9110, 15.6.4\n",
    "\n",
    "StatusGatewayTimeout                = 504 // RFC 9110, 15.6.5\n",
    "\n",
    "StatusHTTPVersionNotSupported       = 505 // RFC 9110, 15.6.6\n",
    "\n",
    "StatusVariantAlsoNegotiates         = 506 // RFC 2295, 8.1\n",
    "\n",
    "StatusInsufficientStorage           = 507 // RFC 4918, 11.5\n",
    "\n",
    "StatusLoopDetected                  = 508 // RFC 5842, 7.2\n",
    "\n",
    "StatusNotExtended                   = 510 // RFC 2774, 7\n",
    "\n",
    "StatusNetworkAuthenticationRequired = 511 // RFC 6585, 6\n"
   ]
  },
  {
   "cell_type": "markdown",
   "metadata": {},
   "source": [
    "# Structs"
   ]
  },
  {
   "cell_type": "markdown",
   "metadata": {},
   "source": [
    "## http.Client{}"
   ]
  },
  {
   "cell_type": "markdown",
   "metadata": {},
   "source": [
    "realiza o gerenciamento de parametros a serem utilizados em um request por um Client\n",
    "\n",
    "**é um agente configurável que podemos especificar como o request será feito**\n",
    "\n",
    "não é obrigatoriamente necessário a criação de um Client ao usar a net/http já que esta fornece funções como `http.Get()` e `http.Post()` com o intuito de deixar a criação do Client em segundo plano\n",
    "\n",
    "o seu uso é necessário e relevante em situações onde **se deseja maior controle sobre os requests HTTP feitos**"
   ]
  },
  {
   "cell_type": "markdown",
   "metadata": {},
   "source": [
    "um exemplo de definção de http.Client{} é:\n",
    "\n",
    "```terraform\n",
    "package main\n",
    "\n",
    "import (\n",
    "\t\"fmt\"\n",
    "\t\"io\"\n",
    "\t\"net/http\"\n",
    "\t\"time\"\n",
    ")\n",
    "\n",
    "func main() {\n",
    "\t// 1. Create a custom http.Client\n",
    "\tclient := &http.Client{\n",
    "\t\tTimeout: 10 * time.Second, // Set a 10-second timeout for the entire request\n",
    "\t\tTransport: &http.Transport{\n",
    "\t\t\tMaxIdleConns:        10,\n",
    "\t\t\tIdleConnTimeout:     30 * time.Second,\n",
    "\t\t\tDisableKeepAlives:   false,\n",
    "\t\t\tTLSHandshakeTimeout: 5 * time.Second,\n",
    "\t\t\t// Add other transport configurations as needed\n",
    "\t\t},\n",
    "\t\tCheckRedirect: func(req *http.Request, via []*http.Request) error {\n",
    "\t\t\tfmt.Printf(\"Following redirect to: %s\\n\", req.URL)\n",
    "\t\t\tif len(via) >= 10 {\n",
    "\t\t\t\treturn fmt.Errorf(\"stopped after 10 redirects\")\n",
    "\t\t\t}\n",
    "\t\t\treturn nil\n",
    "\t\t},\n",
    "\t\t// Jar: ... (for custom cookie management)\n",
    "\t}\n",
    "\n",
    "\t// 2. Create an HTTP request\n",
    "\treq, err := http.NewRequest(\"GET\", \"https://httpbin.org/get\", nil)\n",
    "\tif err != nil {\n",
    "\t\tfmt.Println(\"Error creating request:\", err)\n",
    "\t\treturn\n",
    "\t}\n",
    "\n",
    "\t// Optionally add headers\n",
    "\treq.Header.Set(\"User-Agent\", \"MyCustomGoClient/1.0\")\n",
    "\n",
    "\t// 3. Send the request using the custom client\n",
    "\tresp, err := client.Do(req)\n",
    "\tif err != nil {\n",
    "\t\tfmt.Println(\"Error making request:\", err)\n",
    "\t\treturn\n",
    "\t}\n",
    "\tdefer resp.Body.Close()\n",
    "\n",
    "\t// 4. Process the response\n",
    "\tfmt.Println(\"Status Code:\", resp.StatusCode)\n",
    "\tbody, err := io.ReadAll(resp.Body)\n",
    "\tif err != nil {\n",
    "\t\tfmt.Println(\"Error reading response body:\", err)\n",
    "\t\treturn\n",
    "\t}\n",
    "\tfmt.Println(\"Response Body:\", string(body))\n",
    "}\n",
    "```\n",
    "\n",
    "entrando em detalhes de seus componentes"
   ]
  },
  {
   "cell_type": "markdown",
   "metadata": {},
   "source": [
    "### **Transport**"
   ]
  },
  {
   "cell_type": "markdown",
   "metadata": {},
   "source": [
    "como será estabelecida a conexão com o server (TCP/IP, UDP, TLS, etc)"
   ]
  },
  {
   "cell_type": "markdown",
   "metadata": {},
   "source": [
    "### **Redirection Policy**"
   ]
  },
  {
   "cell_type": "markdown",
   "metadata": {},
   "source": [
    "como será lidado os status code 3xx (de redirecionamento)\n",
    "\n",
    "**serão seguidos ou um erro é retornado?**\n",
    "\n",
    "**por padrão ele é redirecionado**"
   ]
  },
  {
   "cell_type": "markdown",
   "metadata": {},
   "source": [
    "### **Cookies**"
   ]
  },
  {
   "cell_type": "markdown",
   "metadata": {},
   "source": [
    "gerencia a politica de cookies, isto é, se serão enviados cookies junto dos requests\n",
    "\n",
    "**por padrão ele envia cookies**"
   ]
  },
  {
   "cell_type": "markdown",
   "metadata": {},
   "source": [
    "### **Timeouts**"
   ]
  },
  {
   "cell_type": "markdown",
   "metadata": {},
   "source": [
    "seta o timeout de execução do request para diferentes partes do seu processo como:\n",
    "\n",
    "+   conexão\n",
    "\n",
    "+   response\n",
    "\n",
    "+   etc"
   ]
  },
  {
   "cell_type": "markdown",
   "metadata": {},
   "source": [
    "## http.CloseNotifier{}"
   ]
  },
  {
   "cell_type": "markdown",
   "metadata": {},
   "source": [
    "## http.ConnState{}"
   ]
  },
  {
   "cell_type": "markdown",
   "metadata": {},
   "source": [
    "## http.Cookie{}"
   ]
  },
  {
   "cell_type": "markdown",
   "metadata": {},
   "source": [
    "## http.CookieJar{}"
   ]
  },
  {
   "cell_type": "markdown",
   "metadata": {},
   "source": [
    "## http.Dir{}"
   ]
  },
  {
   "cell_type": "markdown",
   "metadata": {},
   "source": [
    "## http.File{}"
   ]
  },
  {
   "cell_type": "markdown",
   "metadata": {},
   "source": [
    "## http.FileSystem{}"
   ]
  },
  {
   "cell_type": "markdown",
   "metadata": {},
   "source": [
    "## http.Flusher{}"
   ]
  },
  {
   "cell_type": "markdown",
   "metadata": {},
   "source": [
    "## http.HTTP2Config{}"
   ]
  },
  {
   "cell_type": "markdown",
   "metadata": {},
   "source": [
    "## http.Handler{}"
   ]
  },
  {
   "cell_type": "markdown",
   "metadata": {},
   "source": [
    "## http.HandlerFunc{}"
   ]
  },
  {
   "cell_type": "markdown",
   "metadata": {},
   "source": [
    "## http.Header{}"
   ]
  },
  {
   "cell_type": "markdown",
   "metadata": {},
   "source": [
    "## http.Hijacker{}"
   ]
  },
  {
   "cell_type": "markdown",
   "metadata": {},
   "source": [
    "## http.MaxBytesError{}"
   ]
  },
  {
   "cell_type": "markdown",
   "metadata": {},
   "source": [
    "## http.Protocols{}"
   ]
  },
  {
   "cell_type": "markdown",
   "metadata": {},
   "source": [
    "## http.ProtocolError{}"
   ]
  },
  {
   "cell_type": "markdown",
   "metadata": {},
   "source": [
    "## http.PushOptions{}"
   ]
  },
  {
   "cell_type": "markdown",
   "metadata": {},
   "source": [
    "## http.Pusher{}"
   ]
  },
  {
   "cell_type": "markdown",
   "metadata": {},
   "source": [
    "## http.Request{}"
   ]
  },
  {
   "cell_type": "markdown",
   "metadata": {},
   "source": [
    "## http.Response{}"
   ]
  },
  {
   "cell_type": "markdown",
   "metadata": {},
   "source": [
    "## http.ResponseController{}"
   ]
  },
  {
   "cell_type": "markdown",
   "metadata": {},
   "source": [
    "## http.ResponseWriter{}"
   ]
  },
  {
   "cell_type": "markdown",
   "metadata": {},
   "source": [
    "## http.RoundTripper{}"
   ]
  },
  {
   "cell_type": "markdown",
   "metadata": {},
   "source": [
    "## http.SameSite{}"
   ]
  },
  {
   "cell_type": "markdown",
   "metadata": {},
   "source": [
    "## http.ServeMux{}"
   ]
  },
  {
   "cell_type": "markdown",
   "metadata": {},
   "source": [
    "## http.Server{}"
   ]
  },
  {
   "cell_type": "markdown",
   "metadata": {},
   "source": [
    "## http.Transport{}"
   ]
  },
  {
   "cell_type": "markdown",
   "metadata": {},
   "source": [
    "# Funções"
   ]
  },
  {
   "cell_type": "markdown",
   "metadata": {},
   "source": [
    "### CanonicalHeaderKey(s `string`) `string`"
   ]
  },
  {
   "cell_type": "markdown",
   "metadata": {},
   "source": [
    "### DectectContentType(data `[]byte`) `string`"
   ]
  },
  {
   "cell_type": "markdown",
   "metadata": {},
   "source": [
    "### Error(w `ResponseWriter`, error `string`, code `int`)"
   ]
  },
  {
   "cell_type": "markdown",
   "metadata": {},
   "source": [
    "### Handle(pattern `string` handler `Handler`)"
   ]
  },
  {
   "cell_type": "markdown",
   "metadata": {},
   "source": [
    "### HandleFunc(patter `string`, handler `func(ResponseWriter, *Request)`)"
   ]
  },
  {
   "cell_type": "markdown",
   "metadata": {},
   "source": [
    "### ListAndServe(addr `string`, handler `Handler`) `error`"
   ]
  },
  {
   "cell_type": "markdown",
   "metadata": {},
   "source": [
    "### ListAndServeTLS(addr, certFile, keyFile `string`, handler `Handler`) `error`"
   ]
  },
  {
   "cell_type": "markdown",
   "metadata": {},
   "source": [
    "### MaxBytesReader(w `ResponseWriter`, r `io.ReadCloser`, n `int64`) `io.ReadCloser`"
   ]
  },
  {
   "cell_type": "markdown",
   "metadata": {},
   "source": [
    "### NotFound(w `ResponseWriter`, r `*Request`)"
   ]
  },
  {
   "cell_type": "markdown",
   "metadata": {},
   "source": [
    "### ParseHTTPVersion(vers `string`) (major, minor `int`, ok `bool`)"
   ]
  },
  {
   "cell_type": "markdown",
   "metadata": {},
   "source": [
    "### ParseTime(text `string`) (t `time.Time`, err `error`)"
   ]
  },
  {
   "cell_type": "markdown",
   "metadata": {},
   "source": [
    "### ProxyFromEnvironment(req `*Request`) (`*url.URL`, `error`)"
   ]
  },
  {
   "cell_type": "markdown",
   "metadata": {},
   "source": [
    "### ProxyURL(fixedURL `*url.URL`) func(`*Request`) (`*url.URL`, `error`)"
   ]
  },
  {
   "cell_type": "markdown",
   "metadata": {},
   "source": [
    "### Redirect(w `ResponseWriter`, r `*Request`, url `string`, code `int`)"
   ]
  },
  {
   "cell_type": "markdown",
   "metadata": {},
   "source": [
    "### Serve(l `net.Listener`, handler `Handler`) `error`"
   ]
  },
  {
   "cell_type": "markdown",
   "metadata": {},
   "source": [
    "### ServeContent(w `ResponseWriter`, req `*Request`, name `string`, modtime `time.Time`, content `io.ReadSeeker`)"
   ]
  },
  {
   "cell_type": "markdown",
   "metadata": {},
   "source": [
    "### ServeFile(w `ResponseWriter`, r `*Request`, name `string`)"
   ]
  },
  {
   "cell_type": "markdown",
   "metadata": {},
   "source": [
    "### ServeFileFS(w `ResponseWriter`, r `*Request`, fsys `fs.FS`, name `string`)"
   ]
  },
  {
   "cell_type": "markdown",
   "metadata": {},
   "source": [
    "### ServeTLS(l `net.Listener`, handler `Handler`, certFile, keyFile `string`) `error`"
   ]
  },
  {
   "cell_type": "markdown",
   "metadata": {},
   "source": [
    "### SetCookie(w `ResponseWriter`, cookie `*Cookie`)"
   ]
  },
  {
   "cell_type": "markdown",
   "metadata": {},
   "source": [
    "### StatusCode(code `int`) `string`"
   ]
  }
 ],
 "metadata": {
  "language_info": {
   "name": "python"
  }
 },
 "nbformat": 4,
 "nbformat_minor": 2
}
